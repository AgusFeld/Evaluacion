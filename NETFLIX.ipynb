{
  "nbformat": 4,
  "nbformat_minor": 0,
  "metadata": {
    "colab": {
      "provenance": [],
      "collapsed_sections": [],
      "include_colab_link": true
    },
    "kernelspec": {
      "name": "python3",
      "display_name": "Python 3"
    },
    "language_info": {
      "name": "python"
    }
  },
  "cells": [
    {
      "cell_type": "markdown",
      "metadata": {
        "id": "view-in-github",
        "colab_type": "text"
      },
      "source": [
        "<a href=\"https://colab.research.google.com/github/AgusFeld/Evaluacion/blob/main/NETFLIX.ipynb\" target=\"_parent\"><img src=\"https://colab.research.google.com/assets/colab-badge.svg\" alt=\"Open In Colab\"/></a>"
      ]
    },
    {
      "cell_type": "markdown",
      "source": [
        "### Importación de Librerias ###"
      ],
      "metadata": {
        "id": "IsgCWdBzI8ho"
      }
    },
    {
      "cell_type": "code",
      "execution_count": null,
      "metadata": {
        "id": "hy0oWxR_tbkb"
      },
      "outputs": [],
      "source": [
        "import pandas as pd\n",
        "import matplotlib.pyplot as plt\n",
        "import seaborn as sns\n",
        "import urllib.request\n",
        "import PIL.Image\n",
        "import numpy as np\n"
      ]
    },
    {
      "cell_type": "code",
      "source": [
        "from google.colab import drive\n",
        "drive.mount('/content/drive')"
      ],
      "metadata": {
        "colab": {
          "base_uri": "https://localhost:8080/",
          "height": 328
        },
        "id": "GfOMtS1lHLlg",
        "outputId": "e7caf7dd-42a9-4ba7-bc67-f77f52d42dec"
      },
      "execution_count": null,
      "outputs": [
        {
          "output_type": "error",
          "ename": "MessageError",
          "evalue": "ignored",
          "traceback": [
            "\u001b[0;31m---------------------------------------------------------------------------\u001b[0m",
            "\u001b[0;31mMessageError\u001b[0m                              Traceback (most recent call last)",
            "\u001b[0;32m<ipython-input-2-d5df0069828e>\u001b[0m in \u001b[0;36m<module>\u001b[0;34m\u001b[0m\n\u001b[1;32m      1\u001b[0m \u001b[0;32mfrom\u001b[0m \u001b[0mgoogle\u001b[0m\u001b[0;34m.\u001b[0m\u001b[0mcolab\u001b[0m \u001b[0;32mimport\u001b[0m \u001b[0mdrive\u001b[0m\u001b[0;34m\u001b[0m\u001b[0;34m\u001b[0m\u001b[0m\n\u001b[0;32m----> 2\u001b[0;31m \u001b[0mdrive\u001b[0m\u001b[0;34m.\u001b[0m\u001b[0mmount\u001b[0m\u001b[0;34m(\u001b[0m\u001b[0;34m'/content/drive'\u001b[0m\u001b[0;34m)\u001b[0m\u001b[0;34m\u001b[0m\u001b[0;34m\u001b[0m\u001b[0m\n\u001b[0m",
            "\u001b[0;32m/usr/local/lib/python3.7/dist-packages/google/colab/drive.py\u001b[0m in \u001b[0;36mmount\u001b[0;34m(mountpoint, force_remount, timeout_ms)\u001b[0m\n\u001b[1;32m    103\u001b[0m       \u001b[0mforce_remount\u001b[0m\u001b[0;34m=\u001b[0m\u001b[0mforce_remount\u001b[0m\u001b[0;34m,\u001b[0m\u001b[0;34m\u001b[0m\u001b[0;34m\u001b[0m\u001b[0m\n\u001b[1;32m    104\u001b[0m       \u001b[0mtimeout_ms\u001b[0m\u001b[0;34m=\u001b[0m\u001b[0mtimeout_ms\u001b[0m\u001b[0;34m,\u001b[0m\u001b[0;34m\u001b[0m\u001b[0;34m\u001b[0m\u001b[0m\n\u001b[0;32m--> 105\u001b[0;31m       ephemeral=True)\n\u001b[0m\u001b[1;32m    106\u001b[0m \u001b[0;34m\u001b[0m\u001b[0m\n\u001b[1;32m    107\u001b[0m \u001b[0;34m\u001b[0m\u001b[0m\n",
            "\u001b[0;32m/usr/local/lib/python3.7/dist-packages/google/colab/drive.py\u001b[0m in \u001b[0;36m_mount\u001b[0;34m(mountpoint, force_remount, timeout_ms, ephemeral)\u001b[0m\n\u001b[1;32m    118\u001b[0m   \u001b[0;32mif\u001b[0m \u001b[0mephemeral\u001b[0m\u001b[0;34m:\u001b[0m\u001b[0;34m\u001b[0m\u001b[0;34m\u001b[0m\u001b[0m\n\u001b[1;32m    119\u001b[0m     _message.blocking_request(\n\u001b[0;32m--> 120\u001b[0;31m         'request_auth', request={'authType': 'dfs_ephemeral'}, timeout_sec=None)\n\u001b[0m\u001b[1;32m    121\u001b[0m \u001b[0;34m\u001b[0m\u001b[0m\n\u001b[1;32m    122\u001b[0m   \u001b[0mmountpoint\u001b[0m \u001b[0;34m=\u001b[0m \u001b[0m_os\u001b[0m\u001b[0;34m.\u001b[0m\u001b[0mpath\u001b[0m\u001b[0;34m.\u001b[0m\u001b[0mexpanduser\u001b[0m\u001b[0;34m(\u001b[0m\u001b[0mmountpoint\u001b[0m\u001b[0;34m)\u001b[0m\u001b[0;34m\u001b[0m\u001b[0;34m\u001b[0m\u001b[0m\n",
            "\u001b[0;32m/usr/local/lib/python3.7/dist-packages/google/colab/_message.py\u001b[0m in \u001b[0;36mblocking_request\u001b[0;34m(request_type, request, timeout_sec, parent)\u001b[0m\n\u001b[1;32m    169\u001b[0m   request_id = send_request(\n\u001b[1;32m    170\u001b[0m       request_type, request, parent=parent, expect_reply=True)\n\u001b[0;32m--> 171\u001b[0;31m   \u001b[0;32mreturn\u001b[0m \u001b[0mread_reply_from_input\u001b[0m\u001b[0;34m(\u001b[0m\u001b[0mrequest_id\u001b[0m\u001b[0;34m,\u001b[0m \u001b[0mtimeout_sec\u001b[0m\u001b[0;34m)\u001b[0m\u001b[0;34m\u001b[0m\u001b[0;34m\u001b[0m\u001b[0m\n\u001b[0m",
            "\u001b[0;32m/usr/local/lib/python3.7/dist-packages/google/colab/_message.py\u001b[0m in \u001b[0;36mread_reply_from_input\u001b[0;34m(message_id, timeout_sec)\u001b[0m\n\u001b[1;32m    100\u001b[0m         reply.get('colab_msg_id') == message_id):\n\u001b[1;32m    101\u001b[0m       \u001b[0;32mif\u001b[0m \u001b[0;34m'error'\u001b[0m \u001b[0;32min\u001b[0m \u001b[0mreply\u001b[0m\u001b[0;34m:\u001b[0m\u001b[0;34m\u001b[0m\u001b[0;34m\u001b[0m\u001b[0m\n\u001b[0;32m--> 102\u001b[0;31m         \u001b[0;32mraise\u001b[0m \u001b[0mMessageError\u001b[0m\u001b[0;34m(\u001b[0m\u001b[0mreply\u001b[0m\u001b[0;34m[\u001b[0m\u001b[0;34m'error'\u001b[0m\u001b[0;34m]\u001b[0m\u001b[0;34m)\u001b[0m\u001b[0;34m\u001b[0m\u001b[0;34m\u001b[0m\u001b[0m\n\u001b[0m\u001b[1;32m    103\u001b[0m       \u001b[0;32mreturn\u001b[0m \u001b[0mreply\u001b[0m\u001b[0;34m.\u001b[0m\u001b[0mget\u001b[0m\u001b[0;34m(\u001b[0m\u001b[0;34m'data'\u001b[0m\u001b[0;34m,\u001b[0m \u001b[0;32mNone\u001b[0m\u001b[0;34m)\u001b[0m\u001b[0;34m\u001b[0m\u001b[0;34m\u001b[0m\u001b[0m\n\u001b[1;32m    104\u001b[0m \u001b[0;34m\u001b[0m\u001b[0m\n",
            "\u001b[0;31mMessageError\u001b[0m: Error: credential propagation was unsuccessful"
          ]
        }
      ]
    },
    {
      "cell_type": "markdown",
      "source": [
        "### Importación del Data-Frame ###"
      ],
      "metadata": {
        "id": "NtDJlRLXLiYV"
      }
    },
    {
      "cell_type": "code",
      "source": [
        "csv = \"NetflixHistory (1).csv\""
      ],
      "metadata": {
        "id": "47TBPEGyv4Sa"
      },
      "execution_count": null,
      "outputs": []
    },
    {
      "cell_type": "markdown",
      "source": [
        "#### Asignación del Data-Frame a una variable ####"
      ],
      "metadata": {
        "id": "NCAl8c3GLumC"
      }
    },
    {
      "cell_type": "code",
      "source": [
        "df = pd.read_csv(csv)"
      ],
      "metadata": {
        "id": "k0vdH85YySxo"
      },
      "execution_count": null,
      "outputs": []
    },
    {
      "cell_type": "markdown",
      "source": [
        "### Filtrado de Dispositivos para solo obtener los deseados ###"
      ],
      "metadata": {
        "id": "SknhOTXXL_vx"
      }
    },
    {
      "cell_type": "code",
      "source": [
        "def filtrar_dispositivos(dispositivos):\n",
        "  return dispositivos not in ['Sony PS4', 'Netflix Windows App - Cadmium Windows Mobile', 'Apple iPhone 6s', 'Apple iPhone 7 Plus (CDMA)', 'Chrome PC (Cadmium)', 'Samsung 2015 NT14M DTV Smart TV', 'iPhone 5S GSM', 'Google Chromecast V3 Streaming Stick']\n",
        "# Devuelve un bool dependiendo si en la tabla o columna seleccionada se encuentra alguno de los nombres,\n",
        "# si se encuentra devuelve un False y si no encuentra devuelve un True en cada una de las filas."
      ],
      "metadata": {
        "id": "giAVdLHj2d3F"
      },
      "execution_count": null,
      "outputs": []
    },
    {
      "cell_type": "code",
      "source": [
        "dataframe = df[df[\"Device Type\"].apply(filtrar_dispositivos)]\n",
        "# Se le aplica a df la funcion filtrar_dispositivos la cual genera una lista de bools, posteriormente utilizando tal lista de bools asigna aquellas filas que estuviesen con True a df. \n",
        "# La nueva lista solamente con las filas que tuviesen True despues de aplicar la función se guardarían en la variable dataframe.   \n",
        "dataframe.head(5)\n",
        "# se muestran las primeras 5 filas para comprobar el funcionamiento del código."
      ],
      "metadata": {
        "id": "FoiTlioV20vv",
        "colab": {
          "base_uri": "https://localhost:8080/",
          "height": 615
        },
        "outputId": "d42b5dbc-acad-4b45-bcc9-c24c709efc91"
      },
      "execution_count": null,
      "outputs": [
        {
          "output_type": "execute_result",
          "data": {
            "text/plain": [
              "   Unnamed: 0 Profile Name           Start Time  Duration Attributes  \\\n",
              "0           0        Chona  2022-08-21 19:54:53  00:02:54        NaN   \n",
              "1           1        Chona  2022-08-21 19:33:17  00:21:33        NaN   \n",
              "2           2        Chona  2022-08-21 19:11:40  00:21:28        NaN   \n",
              "3           3        Chona  2022-08-21 18:50:27  00:20:41        NaN   \n",
              "4           4        Chona  2022-08-21 18:16:34  00:21:20        NaN   \n",
              "\n",
              "                                               Title Supplemental Video Type  \\\n",
              "0  Community: Temporada 3: Teoría del caos correc...                     NaN   \n",
              "1  Community: Temporada 3: Ecología competitiva (...                     NaN   \n",
              "2  Community: Temporada 3: Geografía del conflict...                     NaN   \n",
              "3  Community: Temporada 2: Intermediate Documenta...                     NaN   \n",
              "4  Community: Temporada 3: El documental (Capítul...                     NaN   \n",
              "\n",
              "                 Device Type  Bookmark Latest Bookmark         Country  \n",
              "0  Apple Apple TV 4 Apple TV  00:02:55        00:02:55  AR (Argentina)  \n",
              "1  Apple Apple TV 4 Apple TV  00:21:33        00:21:33  AR (Argentina)  \n",
              "2  Apple Apple TV 4 Apple TV  00:21:28        00:21:28  AR (Argentina)  \n",
              "3  Apple Apple TV 4 Apple TV  00:21:02        00:21:02  AR (Argentina)  \n",
              "4  Apple Apple TV 4 Apple TV  00:21:21        00:21:21  AR (Argentina)  "
            ],
            "text/html": [
              "\n",
              "  <div id=\"df-1d5d6a65-d4d8-452f-8272-934814157922\">\n",
              "    <div class=\"colab-df-container\">\n",
              "      <div>\n",
              "<style scoped>\n",
              "    .dataframe tbody tr th:only-of-type {\n",
              "        vertical-align: middle;\n",
              "    }\n",
              "\n",
              "    .dataframe tbody tr th {\n",
              "        vertical-align: top;\n",
              "    }\n",
              "\n",
              "    .dataframe thead th {\n",
              "        text-align: right;\n",
              "    }\n",
              "</style>\n",
              "<table border=\"1\" class=\"dataframe\">\n",
              "  <thead>\n",
              "    <tr style=\"text-align: right;\">\n",
              "      <th></th>\n",
              "      <th>Unnamed: 0</th>\n",
              "      <th>Profile Name</th>\n",
              "      <th>Start Time</th>\n",
              "      <th>Duration</th>\n",
              "      <th>Attributes</th>\n",
              "      <th>Title</th>\n",
              "      <th>Supplemental Video Type</th>\n",
              "      <th>Device Type</th>\n",
              "      <th>Bookmark</th>\n",
              "      <th>Latest Bookmark</th>\n",
              "      <th>Country</th>\n",
              "    </tr>\n",
              "  </thead>\n",
              "  <tbody>\n",
              "    <tr>\n",
              "      <th>0</th>\n",
              "      <td>0</td>\n",
              "      <td>Chona</td>\n",
              "      <td>2022-08-21 19:54:53</td>\n",
              "      <td>00:02:54</td>\n",
              "      <td>NaN</td>\n",
              "      <td>Community: Temporada 3: Teoría del caos correc...</td>\n",
              "      <td>NaN</td>\n",
              "      <td>Apple Apple TV 4 Apple TV</td>\n",
              "      <td>00:02:55</td>\n",
              "      <td>00:02:55</td>\n",
              "      <td>AR (Argentina)</td>\n",
              "    </tr>\n",
              "    <tr>\n",
              "      <th>1</th>\n",
              "      <td>1</td>\n",
              "      <td>Chona</td>\n",
              "      <td>2022-08-21 19:33:17</td>\n",
              "      <td>00:21:33</td>\n",
              "      <td>NaN</td>\n",
              "      <td>Community: Temporada 3: Ecología competitiva (...</td>\n",
              "      <td>NaN</td>\n",
              "      <td>Apple Apple TV 4 Apple TV</td>\n",
              "      <td>00:21:33</td>\n",
              "      <td>00:21:33</td>\n",
              "      <td>AR (Argentina)</td>\n",
              "    </tr>\n",
              "    <tr>\n",
              "      <th>2</th>\n",
              "      <td>2</td>\n",
              "      <td>Chona</td>\n",
              "      <td>2022-08-21 19:11:40</td>\n",
              "      <td>00:21:28</td>\n",
              "      <td>NaN</td>\n",
              "      <td>Community: Temporada 3: Geografía del conflict...</td>\n",
              "      <td>NaN</td>\n",
              "      <td>Apple Apple TV 4 Apple TV</td>\n",
              "      <td>00:21:28</td>\n",
              "      <td>00:21:28</td>\n",
              "      <td>AR (Argentina)</td>\n",
              "    </tr>\n",
              "    <tr>\n",
              "      <th>3</th>\n",
              "      <td>3</td>\n",
              "      <td>Chona</td>\n",
              "      <td>2022-08-21 18:50:27</td>\n",
              "      <td>00:20:41</td>\n",
              "      <td>NaN</td>\n",
              "      <td>Community: Temporada 2: Intermediate Documenta...</td>\n",
              "      <td>NaN</td>\n",
              "      <td>Apple Apple TV 4 Apple TV</td>\n",
              "      <td>00:21:02</td>\n",
              "      <td>00:21:02</td>\n",
              "      <td>AR (Argentina)</td>\n",
              "    </tr>\n",
              "    <tr>\n",
              "      <th>4</th>\n",
              "      <td>4</td>\n",
              "      <td>Chona</td>\n",
              "      <td>2022-08-21 18:16:34</td>\n",
              "      <td>00:21:20</td>\n",
              "      <td>NaN</td>\n",
              "      <td>Community: Temporada 3: El documental (Capítul...</td>\n",
              "      <td>NaN</td>\n",
              "      <td>Apple Apple TV 4 Apple TV</td>\n",
              "      <td>00:21:21</td>\n",
              "      <td>00:21:21</td>\n",
              "      <td>AR (Argentina)</td>\n",
              "    </tr>\n",
              "  </tbody>\n",
              "</table>\n",
              "</div>\n",
              "      <button class=\"colab-df-convert\" onclick=\"convertToInteractive('df-1d5d6a65-d4d8-452f-8272-934814157922')\"\n",
              "              title=\"Convert this dataframe to an interactive table.\"\n",
              "              style=\"display:none;\">\n",
              "        \n",
              "  <svg xmlns=\"http://www.w3.org/2000/svg\" height=\"24px\"viewBox=\"0 0 24 24\"\n",
              "       width=\"24px\">\n",
              "    <path d=\"M0 0h24v24H0V0z\" fill=\"none\"/>\n",
              "    <path d=\"M18.56 5.44l.94 2.06.94-2.06 2.06-.94-2.06-.94-.94-2.06-.94 2.06-2.06.94zm-11 1L8.5 8.5l.94-2.06 2.06-.94-2.06-.94L8.5 2.5l-.94 2.06-2.06.94zm10 10l.94 2.06.94-2.06 2.06-.94-2.06-.94-.94-2.06-.94 2.06-2.06.94z\"/><path d=\"M17.41 7.96l-1.37-1.37c-.4-.4-.92-.59-1.43-.59-.52 0-1.04.2-1.43.59L10.3 9.45l-7.72 7.72c-.78.78-.78 2.05 0 2.83L4 21.41c.39.39.9.59 1.41.59.51 0 1.02-.2 1.41-.59l7.78-7.78 2.81-2.81c.8-.78.8-2.07 0-2.86zM5.41 20L4 18.59l7.72-7.72 1.47 1.35L5.41 20z\"/>\n",
              "  </svg>\n",
              "      </button>\n",
              "      \n",
              "  <style>\n",
              "    .colab-df-container {\n",
              "      display:flex;\n",
              "      flex-wrap:wrap;\n",
              "      gap: 12px;\n",
              "    }\n",
              "\n",
              "    .colab-df-convert {\n",
              "      background-color: #E8F0FE;\n",
              "      border: none;\n",
              "      border-radius: 50%;\n",
              "      cursor: pointer;\n",
              "      display: none;\n",
              "      fill: #1967D2;\n",
              "      height: 32px;\n",
              "      padding: 0 0 0 0;\n",
              "      width: 32px;\n",
              "    }\n",
              "\n",
              "    .colab-df-convert:hover {\n",
              "      background-color: #E2EBFA;\n",
              "      box-shadow: 0px 1px 2px rgba(60, 64, 67, 0.3), 0px 1px 3px 1px rgba(60, 64, 67, 0.15);\n",
              "      fill: #174EA6;\n",
              "    }\n",
              "\n",
              "    [theme=dark] .colab-df-convert {\n",
              "      background-color: #3B4455;\n",
              "      fill: #D2E3FC;\n",
              "    }\n",
              "\n",
              "    [theme=dark] .colab-df-convert:hover {\n",
              "      background-color: #434B5C;\n",
              "      box-shadow: 0px 1px 3px 1px rgba(0, 0, 0, 0.15);\n",
              "      filter: drop-shadow(0px 1px 2px rgba(0, 0, 0, 0.3));\n",
              "      fill: #FFFFFF;\n",
              "    }\n",
              "  </style>\n",
              "\n",
              "      <script>\n",
              "        const buttonEl =\n",
              "          document.querySelector('#df-1d5d6a65-d4d8-452f-8272-934814157922 button.colab-df-convert');\n",
              "        buttonEl.style.display =\n",
              "          google.colab.kernel.accessAllowed ? 'block' : 'none';\n",
              "\n",
              "        async function convertToInteractive(key) {\n",
              "          const element = document.querySelector('#df-1d5d6a65-d4d8-452f-8272-934814157922');\n",
              "          const dataTable =\n",
              "            await google.colab.kernel.invokeFunction('convertToInteractive',\n",
              "                                                     [key], {});\n",
              "          if (!dataTable) return;\n",
              "\n",
              "          const docLinkHtml = 'Like what you see? Visit the ' +\n",
              "            '<a target=\"_blank\" href=https://colab.research.google.com/notebooks/data_table.ipynb>data table notebook</a>'\n",
              "            + ' to learn more about interactive tables.';\n",
              "          element.innerHTML = '';\n",
              "          dataTable['output_type'] = 'display_data';\n",
              "          await google.colab.output.renderOutput(dataTable, element);\n",
              "          const docLink = document.createElement('div');\n",
              "          docLink.innerHTML = docLinkHtml;\n",
              "          element.appendChild(docLink);\n",
              "        }\n",
              "      </script>\n",
              "    </div>\n",
              "  </div>\n",
              "  "
            ]
          },
          "metadata": {},
          "execution_count": 5
        }
      ]
    },
    {
      "cell_type": "code",
      "source": [
        "e = df[df[\"Device Type\"].apply(filtrar_dispositivos)]"
      ],
      "metadata": {
        "id": "S--JvRqF_I3X"
      },
      "execution_count": null,
      "outputs": []
    },
    {
      "cell_type": "markdown",
      "source": [
        "#Conversion a Segundos"
      ],
      "metadata": {
        "id": "HAMhWkJU-YsC"
      }
    },
    {
      "cell_type": "code",
      "source": [
        "def ConversionSegundos(string):\n",
        "  if not isinstance(string, str):\n",
        "    return string\n",
        "  \n",
        "  hours, minutes, seconds = string.split(\":\")\n",
        "  return int(seconds) + (int(minutes) + int(hours) * 60) * 60\n",
        "\n",
        "# Reemplazamos duration con la duracion en segundos\n",
        "e['Duration'] = e['Duration'].apply(ConversionSegundos)"
      ],
      "metadata": {
        "colab": {
          "base_uri": "https://localhost:8080/"
        },
        "id": "X4LacBcH-YLb",
        "outputId": "66da3c9f-01b7-40de-8682-590e0e9200b2"
      },
      "execution_count": null,
      "outputs": [
        {
          "output_type": "stream",
          "name": "stderr",
          "text": [
            "/usr/local/lib/python3.7/dist-packages/ipykernel_launcher.py:9: SettingWithCopyWarning: \n",
            "A value is trying to be set on a copy of a slice from a DataFrame.\n",
            "Try using .loc[row_indexer,col_indexer] = value instead\n",
            "\n",
            "See the caveats in the documentation: https://pandas.pydata.org/pandas-docs/stable/user_guide/indexing.html#returning-a-view-versus-a-copy\n",
            "  if __name__ == '__main__':\n"
          ]
        }
      ]
    },
    {
      "cell_type": "code",
      "source": [
        "e['Start Time'] = e['Start Time'].apply(pd.Timestamp)"
      ],
      "metadata": {
        "colab": {
          "base_uri": "https://localhost:8080/"
        },
        "id": "XSZ7nvHq_aRL",
        "outputId": "9755fbe7-c47d-4971-b6b5-0008407fd161"
      },
      "execution_count": null,
      "outputs": [
        {
          "output_type": "stream",
          "name": "stderr",
          "text": [
            "/usr/local/lib/python3.7/dist-packages/ipykernel_launcher.py:1: SettingWithCopyWarning: \n",
            "A value is trying to be set on a copy of a slice from a DataFrame.\n",
            "Try using .loc[row_indexer,col_indexer] = value instead\n",
            "\n",
            "See the caveats in the documentation: https://pandas.pydata.org/pandas-docs/stable/user_guide/indexing.html#returning-a-view-versus-a-copy\n",
            "  \"\"\"Entry point for launching an IPython kernel.\n"
          ]
        }
      ]
    },
    {
      "cell_type": "markdown",
      "source": [
        "# Ejercicio A"
      ],
      "metadata": {
        "id": "mZNao1f94m4M"
      }
    },
    {
      "cell_type": "markdown",
      "source": [
        "## Consigna: Contabilizar el dispositivo con el que más títulos se reprodujeron."
      ],
      "metadata": {
        "id": "cmPIhHIZ-EGx"
      }
    },
    {
      "cell_type": "code",
      "source": [
        "dataframe[\"Device Type\"].value_counts()\n",
        "# Mediante el uso del método de pandas \"value_counts()\" se crea una lista con los valores de cuantas veces se repite un valor en una columna."
      ],
      "metadata": {
        "colab": {
          "base_uri": "https://localhost:8080/"
        },
        "id": "vaF1kv2y4mBx",
        "outputId": "092e463b-c090-4369-e800-2be408d01e8b"
      },
      "execution_count": null,
      "outputs": [
        {
          "output_type": "execute_result",
          "data": {
            "text/plain": [
              "Apple Apple TV 4 Apple TV                         3519\n",
              "Apple TV 3 (revised)                              1216\n",
              "Netflix Chrome MAC (Cadmium) HTML 5                449\n",
              "Safari MAC (Cadmium)                               270\n",
              "Apple iPhone 4S                                    259\n",
              "Apple iPod Touch 5G                                220\n",
              "Wii Bowser                                          99\n",
              "LG 2016 LG M16 STD RGBW UHD TV Smart TV             91\n",
              "Apple iPad 3                                        73\n",
              "Apple iPhone 11 Pro                                 39\n",
              "LG 2016 MStar M2 Low DTV Smart TV                   39\n",
              "Apple iPad 3rd Gen (Wi-Fi Only) iPad                12\n",
              "LG 2017 LG M16p Standard UHD TV Smart TV             3\n",
              "Apple iPhone 13 Mini                                 1\n",
              "Android DefaultWidevineL3Tablet Android Tablet       1\n",
              "Name: Device Type, dtype: int64"
            ]
          },
          "metadata": {},
          "execution_count": 9
        }
      ]
    },
    {
      "cell_type": "code",
      "source": [
        "dataframe[\"Device Type\"].value_counts().idxmax()\n",
        "# Mediante el uso del método de pandas \"idxmax()\", muestro el objeto que más se repite en la columna \"Device Type\" del dataframe."
      ],
      "metadata": {
        "colab": {
          "base_uri": "https://localhost:8080/",
          "height": 35
        },
        "id": "2CAGegHp-uF6",
        "outputId": "3101b82c-b3af-4501-cb2a-9353722d9574"
      },
      "execution_count": null,
      "outputs": [
        {
          "output_type": "execute_result",
          "data": {
            "text/plain": [
              "'Apple Apple TV 4 Apple TV'"
            ],
            "application/vnd.google.colaboratory.intrinsic+json": {
              "type": "string"
            }
          },
          "metadata": {},
          "execution_count": 10
        }
      ]
    },
    {
      "cell_type": "markdown",
      "source": [
        "# Ejercicio B"
      ],
      "metadata": {
        "id": "dy4RePSf41_y"
      }
    },
    {
      "cell_type": "markdown",
      "source": [
        "## Consigna: Encontrar la película con más ocurrencias y la película con mayor duración total."
      ],
      "metadata": {
        "id": "l5dabmrR_J0S"
      }
    },
    {
      "cell_type": "markdown",
      "source": [
        "### Averiguamos mediante dos comprobaciones cuales son las películas"
      ],
      "metadata": {
        "id": "7r6tl1p0OvLF"
      }
    },
    {
      "cell_type": "code",
      "source": [
        "pelicula_check1 = dataframe[dataframe.Title.str.contains('Capítulo') == False]\n",
        "# Asigna a una variable nueva, (pelicula_check1), todos los valores del dataframe en las cuales el Título no contenga la palabra Capítulo \n",
        "# lo cual nos ayuda a determinar si se trata de una serie o película\n",
        "\n",
        "pelicula_check2 = pelicula_check1[pd.isna(pelicula_check1['Supplemental Video Type'])]\n",
        "# Asigna a una variable nueva, (pelicula_check2), todos los valores de la variable pelicula_check1 en las cuales no tenga ningún valor asignado en la columna Supplementary Video Type\n",
        "# ya que las películas no suelen poseer ningún valor en tal columna\n",
        " \n",
        "peliculas = pelicula_check2\n",
        "# Asigno la segunda comprobación de si es una película a una nueva variable para organizar mejor"
      ],
      "metadata": {
        "id": "rqZ99Xkz42md"
      },
      "execution_count": null,
      "outputs": []
    },
    {
      "cell_type": "markdown",
      "source": [
        "### Averiguamos la película vista con mayor ocurrencia "
      ],
      "metadata": {
        "id": "muz_1F3NSHMi"
      }
    },
    {
      "cell_type": "code",
      "source": [
        "peliculas[\"Title\"].value_counts().idxmax()\n",
        "# Usando el mismo método que en el ejercicio A, muestro el objeto que más se repite en la columna \"Title\" lo cual devuelve la película más vista."
      ],
      "metadata": {
        "colab": {
          "base_uri": "https://localhost:8080/",
          "height": 35
        },
        "id": "VcsL2BNv7Nnu",
        "outputId": "1e3b66e8-b4bb-4a57-cbf6-2a8b00f3c950"
      },
      "execution_count": null,
      "outputs": [
        {
          "output_type": "execute_result",
          "data": {
            "text/plain": [
              "'Star Wars: El Imperio contraataca'"
            ],
            "application/vnd.google.colaboratory.intrinsic+json": {
              "type": "string"
            }
          },
          "metadata": {},
          "execution_count": 12
        }
      ]
    },
    {
      "cell_type": "markdown",
      "source": [
        "### Averiguamos la película vista con mayor duración"
      ],
      "metadata": {
        "id": "JPI5Tfr4OQpR"
      }
    },
    {
      "cell_type": "markdown",
      "source": [
        "#### Creamos una función que cambie el valor de la duración a segundos. La función separa los valores de \"tiempo\", (\"Duration\" de la tabla) por los \":\". Por como los separa pude determinar que los primeros valores son horas, después minutos y por último segundos. Para convertir todo a segundos la función debe multiplicar el valor de la/s hora/s por 3600 y el valor de lo/s minuto/s por 60. Después de hacerlo, suma todos los valores y devuelve el resultado."
      ],
      "metadata": {
        "id": "eUBH1MmSRB33"
      }
    },
    {
      "cell_type": "code",
      "source": [
        "def duracion(tiempo):\n",
        "  tiempo_fin = []\n",
        "  tiempo_int = tiempo.split(\":\", 2)\n",
        "\n",
        "  for i in range(len(tiempo_int)):\n",
        "    tiempo_fin.append(int(tiempo_int[i]))\n",
        "  tiempo_seg = tiempo_fin[0] * 3600 + tiempo_fin[1] * 60 + tiempo_fin[2]\n",
        "\n",
        "  return tiempo_seg"
      ],
      "metadata": {
        "id": "wNiFZL0n8rAj"
      },
      "execution_count": null,
      "outputs": []
    },
    {
      "cell_type": "markdown",
      "source": [
        "#### Le aplicamos la función a la columna duración"
      ],
      "metadata": {
        "id": "SB7HU6GTUp9e"
      }
    },
    {
      "cell_type": "code",
      "source": [
        "peliculas[\"Duration\"] = peliculas[\"Duration\"].apply(duracion)"
      ],
      "metadata": {
        "colab": {
          "base_uri": "https://localhost:8080/"
        },
        "id": "pOdLkIth-iHV",
        "outputId": "94713ca4-c6f6-42cb-b370-af2fcaec7db9"
      },
      "execution_count": null,
      "outputs": [
        {
          "output_type": "stream",
          "name": "stderr",
          "text": [
            "/usr/local/lib/python3.7/dist-packages/ipykernel_launcher.py:1: SettingWithCopyWarning: \n",
            "A value is trying to be set on a copy of a slice from a DataFrame.\n",
            "Try using .loc[row_indexer,col_indexer] = value instead\n",
            "\n",
            "See the caveats in the documentation: https://pandas.pydata.org/pandas-docs/stable/user_guide/indexing.html#returning-a-view-versus-a-copy\n",
            "  \"\"\"Entry point for launching an IPython kernel.\n"
          ]
        }
      ]
    },
    {
      "cell_type": "markdown",
      "source": [
        "#### Averiguamos cual es la duración máxima de la película más larga vista"
      ],
      "metadata": {
        "id": "-iJIiLQUU6HQ"
      }
    },
    {
      "cell_type": "code",
      "source": [
        "peliculas[\"Duration\"].max()\n",
        "# Utilizando el método \"max()\" determinamos cual es la duración máxima de una película vista"
      ],
      "metadata": {
        "colab": {
          "base_uri": "https://localhost:8080/"
        },
        "id": "lWampXs7Cw58",
        "outputId": "d47b2ded-2067-46c7-a80a-3b797028db90"
      },
      "execution_count": null,
      "outputs": [
        {
          "output_type": "execute_result",
          "data": {
            "text/plain": [
              "8411"
            ]
          },
          "metadata": {},
          "execution_count": 15
        }
      ]
    },
    {
      "cell_type": "markdown",
      "source": [
        "#### Utilizamos el valor de la duración máxima para determinar cual es la película con tal duración"
      ],
      "metadata": {
        "id": "djXkj4dYVbQI"
      }
    },
    {
      "cell_type": "code",
      "source": [
        "peliculas[peliculas[\"Duration\"] == 8411]\n",
        "# Averiguo cual es la película que posee la duración de 8411 segundos al igualar los valores de la columna \"Duration\" a 8411 lo cual devuelve todas las filas que posean esa característica"
      ],
      "metadata": {
        "colab": {
          "base_uri": "https://localhost:8080/",
          "height": 177
        },
        "id": "cNp71AIyHx2j",
        "outputId": "e4e773b4-a514-47c5-ff87-61df5179ec74"
      },
      "execution_count": null,
      "outputs": [
        {
          "output_type": "execute_result",
          "data": {
            "text/plain": [
              "      Unnamed: 0 Profile Name           Start Time  Duration Attributes  \\\n",
              "8127        8127        Chona  2017-07-24 02:25:00      8411        NaN   \n",
              "\n",
              "                    Title Supplemental Video Type           Device Type  \\\n",
              "8127  El club de la pelea                     NaN  Safari MAC (Cadmium)   \n",
              "\n",
              "      Bookmark Latest Bookmark         Country  \n",
              "8127  02:16:26        02:16:26  AR (Argentina)  "
            ],
            "text/html": [
              "\n",
              "  <div id=\"df-0a206c11-f8f9-4c34-a7bc-5cc350079423\">\n",
              "    <div class=\"colab-df-container\">\n",
              "      <div>\n",
              "<style scoped>\n",
              "    .dataframe tbody tr th:only-of-type {\n",
              "        vertical-align: middle;\n",
              "    }\n",
              "\n",
              "    .dataframe tbody tr th {\n",
              "        vertical-align: top;\n",
              "    }\n",
              "\n",
              "    .dataframe thead th {\n",
              "        text-align: right;\n",
              "    }\n",
              "</style>\n",
              "<table border=\"1\" class=\"dataframe\">\n",
              "  <thead>\n",
              "    <tr style=\"text-align: right;\">\n",
              "      <th></th>\n",
              "      <th>Unnamed: 0</th>\n",
              "      <th>Profile Name</th>\n",
              "      <th>Start Time</th>\n",
              "      <th>Duration</th>\n",
              "      <th>Attributes</th>\n",
              "      <th>Title</th>\n",
              "      <th>Supplemental Video Type</th>\n",
              "      <th>Device Type</th>\n",
              "      <th>Bookmark</th>\n",
              "      <th>Latest Bookmark</th>\n",
              "      <th>Country</th>\n",
              "    </tr>\n",
              "  </thead>\n",
              "  <tbody>\n",
              "    <tr>\n",
              "      <th>8127</th>\n",
              "      <td>8127</td>\n",
              "      <td>Chona</td>\n",
              "      <td>2017-07-24 02:25:00</td>\n",
              "      <td>8411</td>\n",
              "      <td>NaN</td>\n",
              "      <td>El club de la pelea</td>\n",
              "      <td>NaN</td>\n",
              "      <td>Safari MAC (Cadmium)</td>\n",
              "      <td>02:16:26</td>\n",
              "      <td>02:16:26</td>\n",
              "      <td>AR (Argentina)</td>\n",
              "    </tr>\n",
              "  </tbody>\n",
              "</table>\n",
              "</div>\n",
              "      <button class=\"colab-df-convert\" onclick=\"convertToInteractive('df-0a206c11-f8f9-4c34-a7bc-5cc350079423')\"\n",
              "              title=\"Convert this dataframe to an interactive table.\"\n",
              "              style=\"display:none;\">\n",
              "        \n",
              "  <svg xmlns=\"http://www.w3.org/2000/svg\" height=\"24px\"viewBox=\"0 0 24 24\"\n",
              "       width=\"24px\">\n",
              "    <path d=\"M0 0h24v24H0V0z\" fill=\"none\"/>\n",
              "    <path d=\"M18.56 5.44l.94 2.06.94-2.06 2.06-.94-2.06-.94-.94-2.06-.94 2.06-2.06.94zm-11 1L8.5 8.5l.94-2.06 2.06-.94-2.06-.94L8.5 2.5l-.94 2.06-2.06.94zm10 10l.94 2.06.94-2.06 2.06-.94-2.06-.94-.94-2.06-.94 2.06-2.06.94z\"/><path d=\"M17.41 7.96l-1.37-1.37c-.4-.4-.92-.59-1.43-.59-.52 0-1.04.2-1.43.59L10.3 9.45l-7.72 7.72c-.78.78-.78 2.05 0 2.83L4 21.41c.39.39.9.59 1.41.59.51 0 1.02-.2 1.41-.59l7.78-7.78 2.81-2.81c.8-.78.8-2.07 0-2.86zM5.41 20L4 18.59l7.72-7.72 1.47 1.35L5.41 20z\"/>\n",
              "  </svg>\n",
              "      </button>\n",
              "      \n",
              "  <style>\n",
              "    .colab-df-container {\n",
              "      display:flex;\n",
              "      flex-wrap:wrap;\n",
              "      gap: 12px;\n",
              "    }\n",
              "\n",
              "    .colab-df-convert {\n",
              "      background-color: #E8F0FE;\n",
              "      border: none;\n",
              "      border-radius: 50%;\n",
              "      cursor: pointer;\n",
              "      display: none;\n",
              "      fill: #1967D2;\n",
              "      height: 32px;\n",
              "      padding: 0 0 0 0;\n",
              "      width: 32px;\n",
              "    }\n",
              "\n",
              "    .colab-df-convert:hover {\n",
              "      background-color: #E2EBFA;\n",
              "      box-shadow: 0px 1px 2px rgba(60, 64, 67, 0.3), 0px 1px 3px 1px rgba(60, 64, 67, 0.15);\n",
              "      fill: #174EA6;\n",
              "    }\n",
              "\n",
              "    [theme=dark] .colab-df-convert {\n",
              "      background-color: #3B4455;\n",
              "      fill: #D2E3FC;\n",
              "    }\n",
              "\n",
              "    [theme=dark] .colab-df-convert:hover {\n",
              "      background-color: #434B5C;\n",
              "      box-shadow: 0px 1px 3px 1px rgba(0, 0, 0, 0.15);\n",
              "      filter: drop-shadow(0px 1px 2px rgba(0, 0, 0, 0.3));\n",
              "      fill: #FFFFFF;\n",
              "    }\n",
              "  </style>\n",
              "\n",
              "      <script>\n",
              "        const buttonEl =\n",
              "          document.querySelector('#df-0a206c11-f8f9-4c34-a7bc-5cc350079423 button.colab-df-convert');\n",
              "        buttonEl.style.display =\n",
              "          google.colab.kernel.accessAllowed ? 'block' : 'none';\n",
              "\n",
              "        async function convertToInteractive(key) {\n",
              "          const element = document.querySelector('#df-0a206c11-f8f9-4c34-a7bc-5cc350079423');\n",
              "          const dataTable =\n",
              "            await google.colab.kernel.invokeFunction('convertToInteractive',\n",
              "                                                     [key], {});\n",
              "          if (!dataTable) return;\n",
              "\n",
              "          const docLinkHtml = 'Like what you see? Visit the ' +\n",
              "            '<a target=\"_blank\" href=https://colab.research.google.com/notebooks/data_table.ipynb>data table notebook</a>'\n",
              "            + ' to learn more about interactive tables.';\n",
              "          element.innerHTML = '';\n",
              "          dataTable['output_type'] = 'display_data';\n",
              "          await google.colab.output.renderOutput(dataTable, element);\n",
              "          const docLink = document.createElement('div');\n",
              "          docLink.innerHTML = docLinkHtml;\n",
              "          element.appendChild(docLink);\n",
              "        }\n",
              "      </script>\n",
              "    </div>\n",
              "  </div>\n",
              "  "
            ]
          },
          "metadata": {},
          "execution_count": 16
        }
      ]
    },
    {
      "cell_type": "markdown",
      "source": [
        "### Averiguamos la película con mayor duración total"
      ],
      "metadata": {
        "id": "9oUgx5EdAr5y"
      }
    },
    {
      "cell_type": "code",
      "source": [
        "pelis = peliculas[\"Title\"].unique()\n",
        "# Utilizamos el método \"unique()\" para determinar todos los títulos los cuales sean películas.\n",
        "\n",
        "duraciones = [sum(peliculas[peliculas[\"Title\"] == peli][\"Duration\"]) for peli in pelis]\n",
        "# Mediante un for que asigna a una variable \"peli\" los nombres de los títulos de películas, se toma tal valor y se agarra toda duración que haya tenido la peli para posteriormente sumarlo.\n",
        "# Una vez sumado los valores de ser necesario se guardan en la variable \"duraciones\"\n",
        "\n",
        "duracion_pelis = pd.Series(duraciones)\n",
        "# Utilizando el método de pandas \"Series\", se crea una serie con todos los valores de la variable duración.\n",
        "\n",
        "nombre_duracion = pd.DataFrame({\"Title\": pelis, \"Duration(sec)\": duracion_pelis})\n",
        "# Se crea un dataframe el cual posee solamente los títulos de las películas (variable \"pelis\"), y la duración total de las mismas (\"duracion_pelis\"). \n",
        "\n",
        "duracion_max = nombre_duracion['Duration(sec)'].max()\n",
        "# Se asigna a la variable \"duracion_max\", mediante el método \"max()\", el valor más grande de la columna \"Duration (seg)\" del dataframe \"nombre_duracion\"\n",
        "\n",
        "peli_mayor_duracion = nombre_duracion[['Title', 'Duration(sec)']][nombre_duracion['Duration(sec)'] == duracion_max]\n",
        "# Se asigna a la variable \"peli_mayor_duracion\", la fila del dataframe \"nombre_duracion\" en la cual se cumpla que la duración sea igual que la variable \"duracion_max\".\n",
        "\n",
        "peli_mayor_duracion\n",
        "# Se muestra la película con mayor duración total vista."
      ],
      "metadata": {
        "colab": {
          "base_uri": "https://localhost:8080/",
          "height": 81
        },
        "id": "Hut5XZgFCKye",
        "outputId": "658d4296-fb7e-4c1e-a9be-d7d2dd041a6f"
      },
      "execution_count": null,
      "outputs": [
        {
          "output_type": "execute_result",
          "data": {
            "text/plain": [
              "                                Title  Duration(sec)\n",
              "38  Star Wars: El Imperio contraataca          29433"
            ],
            "text/html": [
              "\n",
              "  <div id=\"df-a1cb6f81-a03c-4e9b-8a0e-7ab42f5229c2\">\n",
              "    <div class=\"colab-df-container\">\n",
              "      <div>\n",
              "<style scoped>\n",
              "    .dataframe tbody tr th:only-of-type {\n",
              "        vertical-align: middle;\n",
              "    }\n",
              "\n",
              "    .dataframe tbody tr th {\n",
              "        vertical-align: top;\n",
              "    }\n",
              "\n",
              "    .dataframe thead th {\n",
              "        text-align: right;\n",
              "    }\n",
              "</style>\n",
              "<table border=\"1\" class=\"dataframe\">\n",
              "  <thead>\n",
              "    <tr style=\"text-align: right;\">\n",
              "      <th></th>\n",
              "      <th>Title</th>\n",
              "      <th>Duration(sec)</th>\n",
              "    </tr>\n",
              "  </thead>\n",
              "  <tbody>\n",
              "    <tr>\n",
              "      <th>38</th>\n",
              "      <td>Star Wars: El Imperio contraataca</td>\n",
              "      <td>29433</td>\n",
              "    </tr>\n",
              "  </tbody>\n",
              "</table>\n",
              "</div>\n",
              "      <button class=\"colab-df-convert\" onclick=\"convertToInteractive('df-a1cb6f81-a03c-4e9b-8a0e-7ab42f5229c2')\"\n",
              "              title=\"Convert this dataframe to an interactive table.\"\n",
              "              style=\"display:none;\">\n",
              "        \n",
              "  <svg xmlns=\"http://www.w3.org/2000/svg\" height=\"24px\"viewBox=\"0 0 24 24\"\n",
              "       width=\"24px\">\n",
              "    <path d=\"M0 0h24v24H0V0z\" fill=\"none\"/>\n",
              "    <path d=\"M18.56 5.44l.94 2.06.94-2.06 2.06-.94-2.06-.94-.94-2.06-.94 2.06-2.06.94zm-11 1L8.5 8.5l.94-2.06 2.06-.94-2.06-.94L8.5 2.5l-.94 2.06-2.06.94zm10 10l.94 2.06.94-2.06 2.06-.94-2.06-.94-.94-2.06-.94 2.06-2.06.94z\"/><path d=\"M17.41 7.96l-1.37-1.37c-.4-.4-.92-.59-1.43-.59-.52 0-1.04.2-1.43.59L10.3 9.45l-7.72 7.72c-.78.78-.78 2.05 0 2.83L4 21.41c.39.39.9.59 1.41.59.51 0 1.02-.2 1.41-.59l7.78-7.78 2.81-2.81c.8-.78.8-2.07 0-2.86zM5.41 20L4 18.59l7.72-7.72 1.47 1.35L5.41 20z\"/>\n",
              "  </svg>\n",
              "      </button>\n",
              "      \n",
              "  <style>\n",
              "    .colab-df-container {\n",
              "      display:flex;\n",
              "      flex-wrap:wrap;\n",
              "      gap: 12px;\n",
              "    }\n",
              "\n",
              "    .colab-df-convert {\n",
              "      background-color: #E8F0FE;\n",
              "      border: none;\n",
              "      border-radius: 50%;\n",
              "      cursor: pointer;\n",
              "      display: none;\n",
              "      fill: #1967D2;\n",
              "      height: 32px;\n",
              "      padding: 0 0 0 0;\n",
              "      width: 32px;\n",
              "    }\n",
              "\n",
              "    .colab-df-convert:hover {\n",
              "      background-color: #E2EBFA;\n",
              "      box-shadow: 0px 1px 2px rgba(60, 64, 67, 0.3), 0px 1px 3px 1px rgba(60, 64, 67, 0.15);\n",
              "      fill: #174EA6;\n",
              "    }\n",
              "\n",
              "    [theme=dark] .colab-df-convert {\n",
              "      background-color: #3B4455;\n",
              "      fill: #D2E3FC;\n",
              "    }\n",
              "\n",
              "    [theme=dark] .colab-df-convert:hover {\n",
              "      background-color: #434B5C;\n",
              "      box-shadow: 0px 1px 3px 1px rgba(0, 0, 0, 0.15);\n",
              "      filter: drop-shadow(0px 1px 2px rgba(0, 0, 0, 0.3));\n",
              "      fill: #FFFFFF;\n",
              "    }\n",
              "  </style>\n",
              "\n",
              "      <script>\n",
              "        const buttonEl =\n",
              "          document.querySelector('#df-a1cb6f81-a03c-4e9b-8a0e-7ab42f5229c2 button.colab-df-convert');\n",
              "        buttonEl.style.display =\n",
              "          google.colab.kernel.accessAllowed ? 'block' : 'none';\n",
              "\n",
              "        async function convertToInteractive(key) {\n",
              "          const element = document.querySelector('#df-a1cb6f81-a03c-4e9b-8a0e-7ab42f5229c2');\n",
              "          const dataTable =\n",
              "            await google.colab.kernel.invokeFunction('convertToInteractive',\n",
              "                                                     [key], {});\n",
              "          if (!dataTable) return;\n",
              "\n",
              "          const docLinkHtml = 'Like what you see? Visit the ' +\n",
              "            '<a target=\"_blank\" href=https://colab.research.google.com/notebooks/data_table.ipynb>data table notebook</a>'\n",
              "            + ' to learn more about interactive tables.';\n",
              "          element.innerHTML = '';\n",
              "          dataTable['output_type'] = 'display_data';\n",
              "          await google.colab.output.renderOutput(dataTable, element);\n",
              "          const docLink = document.createElement('div');\n",
              "          docLink.innerHTML = docLinkHtml;\n",
              "          element.appendChild(docLink);\n",
              "        }\n",
              "      </script>\n",
              "    </div>\n",
              "  </div>\n",
              "  "
            ]
          },
          "metadata": {},
          "execution_count": 17
        }
      ]
    },
    {
      "cell_type": "markdown",
      "source": [
        "# Ejercicio C"
      ],
      "metadata": {
        "id": "BJciEhEwWbmp"
      }
    },
    {
      "cell_type": "markdown",
      "source": [
        "### Averiguamos cuales son las series"
      ],
      "metadata": {
        "id": "lTIxJUf1omq_"
      }
    },
    {
      "cell_type": "code",
      "source": [
        "serie_check1 = dataframe[dataframe.Title.str.contains('Capítulo') == True]\n",
        "# Asigna a una variable nueva, (serie_check1), todos los valores del dataframe en las cuales el Título contenga la palabra Capítulo \n",
        "# lo cual nos ayuda a determinar si se trata de una serie o película\n",
        "\n",
        "series = serie_check1\n",
        "\n",
        "series"
      ],
      "metadata": {
        "colab": {
          "base_uri": "https://localhost:8080/",
          "height": 1000
        },
        "id": "sd76w4yFsJ4E",
        "outputId": "7cae352d-1d87-4003-86cf-2cc5fb5fe42f"
      },
      "execution_count": null,
      "outputs": [
        {
          "output_type": "execute_result",
          "data": {
            "text/plain": [
              "       Unnamed: 0 Profile Name           Start Time  Duration Attributes  \\\n",
              "0               0        Chona  2022-08-21 19:54:53  00:02:54        NaN   \n",
              "1               1        Chona  2022-08-21 19:33:17  00:21:33        NaN   \n",
              "2               2        Chona  2022-08-21 19:11:40  00:21:28        NaN   \n",
              "3               3        Chona  2022-08-21 18:50:27  00:20:41        NaN   \n",
              "4               4        Chona  2022-08-21 18:16:34  00:21:20        NaN   \n",
              "...           ...          ...                  ...       ...        ...   \n",
              "12992       12992        Chona  2015-01-08 19:21:21  00:04:09        NaN   \n",
              "12993       12993        Chona  2015-01-08 19:20:47  00:00:15        NaN   \n",
              "12994       12994        Chona  2015-01-08 19:18:32  00:00:37        NaN   \n",
              "12995       12995        Chona  2015-01-08 19:16:45  00:00:18        NaN   \n",
              "12996       12996        Chona  2015-01-08 19:15:14  00:00:18        NaN   \n",
              "\n",
              "                                                   Title  \\\n",
              "0      Community: Temporada 3: Teoría del caos correc...   \n",
              "1      Community: Temporada 3: Ecología competitiva (...   \n",
              "2      Community: Temporada 3: Geografía del conflict...   \n",
              "3      Community: Temporada 2: Intermediate Documenta...   \n",
              "4      Community: Temporada 3: El documental (Capítul...   \n",
              "...                                                  ...   \n",
              "12992    Lost: Temporada 1: Éxodo: Parte 1 (Capítulo 23)   \n",
              "12993  Lost: Temporada 1: Nacida para correr (Capítul...   \n",
              "12994    Lost: Temporada 1: Éxodo: Parte 1 (Capítulo 23)   \n",
              "12995    Lost: Temporada 1: Éxodo: Parte 1 (Capítulo 23)   \n",
              "12996    Lost: Temporada 1: Éxodo: Parte 1 (Capítulo 23)   \n",
              "\n",
              "      Supplemental Video Type                Device Type  Bookmark  \\\n",
              "0                         NaN  Apple Apple TV 4 Apple TV  00:02:55   \n",
              "1                         NaN  Apple Apple TV 4 Apple TV  00:21:33   \n",
              "2                         NaN  Apple Apple TV 4 Apple TV  00:21:28   \n",
              "3                         NaN  Apple Apple TV 4 Apple TV  00:21:02   \n",
              "4                         NaN  Apple Apple TV 4 Apple TV  00:21:21   \n",
              "...                       ...                        ...       ...   \n",
              "12992                     NaN       Apple TV 3 (revised)  00:04:40   \n",
              "12993                     NaN       Apple TV 3 (revised)  00:00:14   \n",
              "12994                     NaN       Apple TV 3 (revised)  00:00:37   \n",
              "12995                     NaN       Apple TV 3 (revised)  00:00:18   \n",
              "12996                     NaN       Apple TV 3 (revised)  00:00:18   \n",
              "\n",
              "       Latest Bookmark         Country  \n",
              "0             00:02:55  AR (Argentina)  \n",
              "1             00:21:33  AR (Argentina)  \n",
              "2             00:21:28  AR (Argentina)  \n",
              "3             00:21:02  AR (Argentina)  \n",
              "4             00:21:21  AR (Argentina)  \n",
              "...                ...             ...  \n",
              "12992  Not latest view  AR (Argentina)  \n",
              "12993  Not latest view  AR (Argentina)  \n",
              "12994  Not latest view  AR (Argentina)  \n",
              "12995  Not latest view  AR (Argentina)  \n",
              "12996  Not latest view  AR (Argentina)  \n",
              "\n",
              "[5875 rows x 11 columns]"
            ],
            "text/html": [
              "\n",
              "  <div id=\"df-8925de71-2b37-4980-800f-1b7b9073092c\">\n",
              "    <div class=\"colab-df-container\">\n",
              "      <div>\n",
              "<style scoped>\n",
              "    .dataframe tbody tr th:only-of-type {\n",
              "        vertical-align: middle;\n",
              "    }\n",
              "\n",
              "    .dataframe tbody tr th {\n",
              "        vertical-align: top;\n",
              "    }\n",
              "\n",
              "    .dataframe thead th {\n",
              "        text-align: right;\n",
              "    }\n",
              "</style>\n",
              "<table border=\"1\" class=\"dataframe\">\n",
              "  <thead>\n",
              "    <tr style=\"text-align: right;\">\n",
              "      <th></th>\n",
              "      <th>Unnamed: 0</th>\n",
              "      <th>Profile Name</th>\n",
              "      <th>Start Time</th>\n",
              "      <th>Duration</th>\n",
              "      <th>Attributes</th>\n",
              "      <th>Title</th>\n",
              "      <th>Supplemental Video Type</th>\n",
              "      <th>Device Type</th>\n",
              "      <th>Bookmark</th>\n",
              "      <th>Latest Bookmark</th>\n",
              "      <th>Country</th>\n",
              "    </tr>\n",
              "  </thead>\n",
              "  <tbody>\n",
              "    <tr>\n",
              "      <th>0</th>\n",
              "      <td>0</td>\n",
              "      <td>Chona</td>\n",
              "      <td>2022-08-21 19:54:53</td>\n",
              "      <td>00:02:54</td>\n",
              "      <td>NaN</td>\n",
              "      <td>Community: Temporada 3: Teoría del caos correc...</td>\n",
              "      <td>NaN</td>\n",
              "      <td>Apple Apple TV 4 Apple TV</td>\n",
              "      <td>00:02:55</td>\n",
              "      <td>00:02:55</td>\n",
              "      <td>AR (Argentina)</td>\n",
              "    </tr>\n",
              "    <tr>\n",
              "      <th>1</th>\n",
              "      <td>1</td>\n",
              "      <td>Chona</td>\n",
              "      <td>2022-08-21 19:33:17</td>\n",
              "      <td>00:21:33</td>\n",
              "      <td>NaN</td>\n",
              "      <td>Community: Temporada 3: Ecología competitiva (...</td>\n",
              "      <td>NaN</td>\n",
              "      <td>Apple Apple TV 4 Apple TV</td>\n",
              "      <td>00:21:33</td>\n",
              "      <td>00:21:33</td>\n",
              "      <td>AR (Argentina)</td>\n",
              "    </tr>\n",
              "    <tr>\n",
              "      <th>2</th>\n",
              "      <td>2</td>\n",
              "      <td>Chona</td>\n",
              "      <td>2022-08-21 19:11:40</td>\n",
              "      <td>00:21:28</td>\n",
              "      <td>NaN</td>\n",
              "      <td>Community: Temporada 3: Geografía del conflict...</td>\n",
              "      <td>NaN</td>\n",
              "      <td>Apple Apple TV 4 Apple TV</td>\n",
              "      <td>00:21:28</td>\n",
              "      <td>00:21:28</td>\n",
              "      <td>AR (Argentina)</td>\n",
              "    </tr>\n",
              "    <tr>\n",
              "      <th>3</th>\n",
              "      <td>3</td>\n",
              "      <td>Chona</td>\n",
              "      <td>2022-08-21 18:50:27</td>\n",
              "      <td>00:20:41</td>\n",
              "      <td>NaN</td>\n",
              "      <td>Community: Temporada 2: Intermediate Documenta...</td>\n",
              "      <td>NaN</td>\n",
              "      <td>Apple Apple TV 4 Apple TV</td>\n",
              "      <td>00:21:02</td>\n",
              "      <td>00:21:02</td>\n",
              "      <td>AR (Argentina)</td>\n",
              "    </tr>\n",
              "    <tr>\n",
              "      <th>4</th>\n",
              "      <td>4</td>\n",
              "      <td>Chona</td>\n",
              "      <td>2022-08-21 18:16:34</td>\n",
              "      <td>00:21:20</td>\n",
              "      <td>NaN</td>\n",
              "      <td>Community: Temporada 3: El documental (Capítul...</td>\n",
              "      <td>NaN</td>\n",
              "      <td>Apple Apple TV 4 Apple TV</td>\n",
              "      <td>00:21:21</td>\n",
              "      <td>00:21:21</td>\n",
              "      <td>AR (Argentina)</td>\n",
              "    </tr>\n",
              "    <tr>\n",
              "      <th>...</th>\n",
              "      <td>...</td>\n",
              "      <td>...</td>\n",
              "      <td>...</td>\n",
              "      <td>...</td>\n",
              "      <td>...</td>\n",
              "      <td>...</td>\n",
              "      <td>...</td>\n",
              "      <td>...</td>\n",
              "      <td>...</td>\n",
              "      <td>...</td>\n",
              "      <td>...</td>\n",
              "    </tr>\n",
              "    <tr>\n",
              "      <th>12992</th>\n",
              "      <td>12992</td>\n",
              "      <td>Chona</td>\n",
              "      <td>2015-01-08 19:21:21</td>\n",
              "      <td>00:04:09</td>\n",
              "      <td>NaN</td>\n",
              "      <td>Lost: Temporada 1: Éxodo: Parte 1 (Capítulo 23)</td>\n",
              "      <td>NaN</td>\n",
              "      <td>Apple TV 3 (revised)</td>\n",
              "      <td>00:04:40</td>\n",
              "      <td>Not latest view</td>\n",
              "      <td>AR (Argentina)</td>\n",
              "    </tr>\n",
              "    <tr>\n",
              "      <th>12993</th>\n",
              "      <td>12993</td>\n",
              "      <td>Chona</td>\n",
              "      <td>2015-01-08 19:20:47</td>\n",
              "      <td>00:00:15</td>\n",
              "      <td>NaN</td>\n",
              "      <td>Lost: Temporada 1: Nacida para correr (Capítul...</td>\n",
              "      <td>NaN</td>\n",
              "      <td>Apple TV 3 (revised)</td>\n",
              "      <td>00:00:14</td>\n",
              "      <td>Not latest view</td>\n",
              "      <td>AR (Argentina)</td>\n",
              "    </tr>\n",
              "    <tr>\n",
              "      <th>12994</th>\n",
              "      <td>12994</td>\n",
              "      <td>Chona</td>\n",
              "      <td>2015-01-08 19:18:32</td>\n",
              "      <td>00:00:37</td>\n",
              "      <td>NaN</td>\n",
              "      <td>Lost: Temporada 1: Éxodo: Parte 1 (Capítulo 23)</td>\n",
              "      <td>NaN</td>\n",
              "      <td>Apple TV 3 (revised)</td>\n",
              "      <td>00:00:37</td>\n",
              "      <td>Not latest view</td>\n",
              "      <td>AR (Argentina)</td>\n",
              "    </tr>\n",
              "    <tr>\n",
              "      <th>12995</th>\n",
              "      <td>12995</td>\n",
              "      <td>Chona</td>\n",
              "      <td>2015-01-08 19:16:45</td>\n",
              "      <td>00:00:18</td>\n",
              "      <td>NaN</td>\n",
              "      <td>Lost: Temporada 1: Éxodo: Parte 1 (Capítulo 23)</td>\n",
              "      <td>NaN</td>\n",
              "      <td>Apple TV 3 (revised)</td>\n",
              "      <td>00:00:18</td>\n",
              "      <td>Not latest view</td>\n",
              "      <td>AR (Argentina)</td>\n",
              "    </tr>\n",
              "    <tr>\n",
              "      <th>12996</th>\n",
              "      <td>12996</td>\n",
              "      <td>Chona</td>\n",
              "      <td>2015-01-08 19:15:14</td>\n",
              "      <td>00:00:18</td>\n",
              "      <td>NaN</td>\n",
              "      <td>Lost: Temporada 1: Éxodo: Parte 1 (Capítulo 23)</td>\n",
              "      <td>NaN</td>\n",
              "      <td>Apple TV 3 (revised)</td>\n",
              "      <td>00:00:18</td>\n",
              "      <td>Not latest view</td>\n",
              "      <td>AR (Argentina)</td>\n",
              "    </tr>\n",
              "  </tbody>\n",
              "</table>\n",
              "<p>5875 rows × 11 columns</p>\n",
              "</div>\n",
              "      <button class=\"colab-df-convert\" onclick=\"convertToInteractive('df-8925de71-2b37-4980-800f-1b7b9073092c')\"\n",
              "              title=\"Convert this dataframe to an interactive table.\"\n",
              "              style=\"display:none;\">\n",
              "        \n",
              "  <svg xmlns=\"http://www.w3.org/2000/svg\" height=\"24px\"viewBox=\"0 0 24 24\"\n",
              "       width=\"24px\">\n",
              "    <path d=\"M0 0h24v24H0V0z\" fill=\"none\"/>\n",
              "    <path d=\"M18.56 5.44l.94 2.06.94-2.06 2.06-.94-2.06-.94-.94-2.06-.94 2.06-2.06.94zm-11 1L8.5 8.5l.94-2.06 2.06-.94-2.06-.94L8.5 2.5l-.94 2.06-2.06.94zm10 10l.94 2.06.94-2.06 2.06-.94-2.06-.94-.94-2.06-.94 2.06-2.06.94z\"/><path d=\"M17.41 7.96l-1.37-1.37c-.4-.4-.92-.59-1.43-.59-.52 0-1.04.2-1.43.59L10.3 9.45l-7.72 7.72c-.78.78-.78 2.05 0 2.83L4 21.41c.39.39.9.59 1.41.59.51 0 1.02-.2 1.41-.59l7.78-7.78 2.81-2.81c.8-.78.8-2.07 0-2.86zM5.41 20L4 18.59l7.72-7.72 1.47 1.35L5.41 20z\"/>\n",
              "  </svg>\n",
              "      </button>\n",
              "      \n",
              "  <style>\n",
              "    .colab-df-container {\n",
              "      display:flex;\n",
              "      flex-wrap:wrap;\n",
              "      gap: 12px;\n",
              "    }\n",
              "\n",
              "    .colab-df-convert {\n",
              "      background-color: #E8F0FE;\n",
              "      border: none;\n",
              "      border-radius: 50%;\n",
              "      cursor: pointer;\n",
              "      display: none;\n",
              "      fill: #1967D2;\n",
              "      height: 32px;\n",
              "      padding: 0 0 0 0;\n",
              "      width: 32px;\n",
              "    }\n",
              "\n",
              "    .colab-df-convert:hover {\n",
              "      background-color: #E2EBFA;\n",
              "      box-shadow: 0px 1px 2px rgba(60, 64, 67, 0.3), 0px 1px 3px 1px rgba(60, 64, 67, 0.15);\n",
              "      fill: #174EA6;\n",
              "    }\n",
              "\n",
              "    [theme=dark] .colab-df-convert {\n",
              "      background-color: #3B4455;\n",
              "      fill: #D2E3FC;\n",
              "    }\n",
              "\n",
              "    [theme=dark] .colab-df-convert:hover {\n",
              "      background-color: #434B5C;\n",
              "      box-shadow: 0px 1px 3px 1px rgba(0, 0, 0, 0.15);\n",
              "      filter: drop-shadow(0px 1px 2px rgba(0, 0, 0, 0.3));\n",
              "      fill: #FFFFFF;\n",
              "    }\n",
              "  </style>\n",
              "\n",
              "      <script>\n",
              "        const buttonEl =\n",
              "          document.querySelector('#df-8925de71-2b37-4980-800f-1b7b9073092c button.colab-df-convert');\n",
              "        buttonEl.style.display =\n",
              "          google.colab.kernel.accessAllowed ? 'block' : 'none';\n",
              "\n",
              "        async function convertToInteractive(key) {\n",
              "          const element = document.querySelector('#df-8925de71-2b37-4980-800f-1b7b9073092c');\n",
              "          const dataTable =\n",
              "            await google.colab.kernel.invokeFunction('convertToInteractive',\n",
              "                                                     [key], {});\n",
              "          if (!dataTable) return;\n",
              "\n",
              "          const docLinkHtml = 'Like what you see? Visit the ' +\n",
              "            '<a target=\"_blank\" href=https://colab.research.google.com/notebooks/data_table.ipynb>data table notebook</a>'\n",
              "            + ' to learn more about interactive tables.';\n",
              "          element.innerHTML = '';\n",
              "          dataTable['output_type'] = 'display_data';\n",
              "          await google.colab.output.renderOutput(dataTable, element);\n",
              "          const docLink = document.createElement('div');\n",
              "          docLink.innerHTML = docLinkHtml;\n",
              "          element.appendChild(docLink);\n",
              "        }\n",
              "      </script>\n",
              "    </div>\n",
              "  </div>\n",
              "  "
            ]
          },
          "metadata": {},
          "execution_count": 18
        }
      ]
    },
    {
      "cell_type": "code",
      "source": [
        "titulosSeries1 = series['Title'].apply(lambda x: x.split(\":\")[0]).value_counts().to_dict()\n",
        "titulosSeries2 = series['Title'].apply(lambda x: x.split(\":\")[0]).value_counts().to_dict()"
      ],
      "metadata": {
        "id": "MQ5Gkybwg4sO"
      },
      "execution_count": null,
      "outputs": []
    },
    {
      "cell_type": "code",
      "source": [
        "top = 5"
      ],
      "metadata": {
        "id": "9XiNhnqwg5mS"
      },
      "execution_count": null,
      "outputs": []
    },
    {
      "cell_type": "markdown",
      "source": [
        "# i"
      ],
      "metadata": {
        "id": "rBW62m4ny1sp"
      }
    },
    {
      "cell_type": "code",
      "source": [
        "for titulo in titulosSeries2.keys():\n",
        "  titulosSeries2[titulo] = sum(series[series['Title'].str.contains(titulo)]['Duration'])\n",
        "\n",
        "datos1 = dict(sorted(titulosSeries2.items(), key=lambda item: item[1], reverse=True)[:top])"
      ],
      "metadata": {
        "colab": {
          "base_uri": "https://localhost:8080/"
        },
        "id": "yKsRVR9ug8yp",
        "outputId": "b080b5a8-012e-4135-d48e-88f307fe6a45"
      },
      "execution_count": null,
      "outputs": [
        {
          "output_type": "stream",
          "name": "stderr",
          "text": [
            "/usr/local/lib/python3.7/dist-packages/ipykernel_launcher.py:2: UserWarning: This pattern has match groups. To actually get the groups, use str.extract.\n",
            "  \n"
          ]
        }
      ]
    },
    {
      "cell_type": "code",
      "source": [
        "plt.figure(figsize=(15, 5))\n",
        "plt.bar(datos1.keys(), datos1.values(), color = 'red')\n",
        "plt.xlabel(\"Titulos\", fontsize=15)\n",
        "plt.ylabel(\"Segundos\", fontsize=15)\n",
        "plt.show()"
      ],
      "metadata": {
        "colab": {
          "base_uri": "https://localhost:8080/",
          "height": 339
        },
        "id": "GUnWGFlEhCiy",
        "outputId": "d569562f-f4b6-4c4d-ed3c-8c6cdeae0d54"
      },
      "execution_count": null,
      "outputs": [
        {
          "output_type": "display_data",
          "data": {
            "text/plain": [
              "<Figure size 1080x360 with 1 Axes>"
            ],
            "image/png": "[encoded data removed]"
          },
          "metadata": {
            "needs_background": "light"
          }
        }
      ]
    },
    {
      "cell_type": "markdown",
      "source": [
        "# ii"
      ],
      "metadata": {
        "id": "BM_oYWMtzI_-"
      }
    },
    {
      "cell_type": "code",
      "source": [
        "datos2 = dict(sorted(titulosSeries1.items(), key=lambda item: item[1], reverse=True)[:top])"
      ],
      "metadata": {
        "id": "ugAp3_GMhVAH"
      },
      "execution_count": null,
      "outputs": []
    },
    {
      "cell_type": "code",
      "source": [
        "plt.figure(figsize=(15, 5))\n",
        "plt.bar(datos2.keys(), datos2.values(), color = 'red')\n",
        "plt.xlabel(\"Titulos\", fontsize=15)\n",
        "plt.ylabel(\"Segundos\", fontsize=15)\n",
        "plt.show()"
      ],
      "metadata": {
        "colab": {
          "base_uri": "https://localhost:8080/",
          "height": 339
        },
        "id": "kXc1sbL7hW-Z",
        "outputId": "1c8d62f3-326e-415d-aaa7-c651a4eb6c34"
      },
      "execution_count": null,
      "outputs": [
        {
          "output_type": "display_data",
          "data": {
            "text/plain": [
              "<Figure size 1080x360 with 1 Axes>"
            ],
            "image/png": "[encoded data removed]"
          },
          "metadata": {
            "needs_background": "light"
          }
        }
      ]
    },
    {
      "cell_type": "markdown",
      "source": [
        "# Ejercicio D"
      ],
      "metadata": {
        "id": "TRXMcMwI--Uv"
      }
    },
    {
      "cell_type": "code",
      "source": [
        "vistas_diarias = [[y for y in range(24)] for x in range(7)]\n",
        "for d in range(0,7):\n",
        "  for h in range(0,24):\n",
        "    vistas_diarias[d][h] = sum(e[(e['Start Time'].dt.dayofweek == d) & (e['Start Time'].dt.hour == h)]['Title'].value_counts().to_list())"
      ],
      "metadata": {
        "id": "LNA999I3_Eig"
      },
      "execution_count": null,
      "outputs": []
    },
    {
      "cell_type": "markdown",
      "source": [
        "# Mostramos los resultados en una especia de mapa de Calor"
      ],
      "metadata": {
        "id": "DJyNn2DOJL1W"
      }
    },
    {
      "cell_type": "code",
      "source": [
        "plt.figure(figsize=(20,7))\n",
        "sns.heatmap(vistas_diarias, annot=True, fmt=\"d\", square=True, yticklabels=[\"Lunes\", \"Martes\", \"Miércoles\", \"Jueves\", \"Viernes\", \"Sábado\", \"Domingo\"], cmap=sns.color_palette(\"dark:#45f3\", as_cmap=True))\n",
        "plt.xlabel(\"Horas\", fontsize=17)\n",
        "plt.ylabel(\"Dias\", fontsize=17)"
      ],
      "metadata": {
        "id": "7mnkMhda_b9s",
        "colab": {
          "base_uri": "https://localhost:8080/",
          "height": 382
        },
        "outputId": "5ac80ce1-8a9b-4330-978b-39f180c34aa1"
      },
      "execution_count": null,
      "outputs": [
        {
          "output_type": "execute_result",
          "data": {
            "text/plain": [
              "Text(159.0, 0.5, 'Dias')"
            ]
          },
          "metadata": {},
          "execution_count": 30
        },
        {
          "output_type": "display_data",
          "data": {
            "text/plain": [
              "<Figure size 1440x504 with 2 Axes>"
            ],
            "image/png": "[encoded data removed]"
          },
          "metadata": {
            "needs_background": "light"
          }
        }
      ]
    },
    {
      "cell_type": "markdown",
      "source": [
        "#E"
      ],
      "metadata": {
        "id": "vDfl_I7uCETM"
      }
    },
    {
      "cell_type": "markdown",
      "source": [
        "# Procedemos a acceder unicamente a los años en el registro de tiempos de inicio"
      ],
      "metadata": {
        "id": "KMoOXCLZCWYC"
      }
    },
    {
      "cell_type": "code",
      "source": [
        "a = dict(e['Start Time'].dt.year.value_counts())\n",
        "\n",
        "# Ordenamos los items del diccionario años en base a la key, es decir el año, y despues los convertimos a un diccionario\n",
        "a = dict(sorted(a.items()))"
      ],
      "metadata": {
        "id": "e2ykDuBNCFnm"
      },
      "execution_count": null,
      "outputs": []
    },
    {
      "cell_type": "markdown",
      "source": [
        "# Mostramos los resultados via una tabla de barras"
      ],
      "metadata": {
        "id": "ZUltXRnwJAGR"
      }
    },
    {
      "cell_type": "code",
      "source": [
        "plt.bar(a.keys(), a.values(), color = 'green')\n",
        "plt.xlabel(\"Años\", fontsize=15)\n",
        "plt.ylabel(\"Cantidad de titulos vistos\", fontsize=15)\n",
        "plt.show()"
      ],
      "metadata": {
        "colab": {
          "base_uri": "https://localhost:8080/",
          "height": 284
        },
        "id": "2Exo0MtwCvbC",
        "outputId": "16f448c0-cd81-4d3d-aead-8fd59c9de709"
      },
      "execution_count": null,
      "outputs": [
        {
          "output_type": "display_data",
          "data": {
            "text/plain": [
              "<Figure size 432x288 with 1 Axes>"
            ],
            "image/png": "[encoded data removed]"
          },
          "metadata": {
            "needs_background": "light"
          }
        }
      ]
    },
    {
      "cell_type": "markdown",
      "source": [
        "# F"
      ],
      "metadata": {
        "id": "X7MaElJnEnNQ"
      }
    },
    {
      "cell_type": "code",
      "source": [
        "titulosTotales = e['Title'].value_counts().to_dict()\n",
        "\n",
        "segundosTotales = 0\n",
        "\n",
        "for titulo in titulosTotales.keys():\n",
        "  segundosTotales += sum(e[e['Title'] == titulo]['Duration'])\n",
        "\n",
        "days = segundosTotales/86400\n",
        "hours= (days - int(days)) * 24\n",
        "minutes = (hours - int(hours)) * 60\n",
        "seconds = (minutes - int(minutes)) * 60"
      ],
      "metadata": {
        "id": "0xVG9nRUEo9Y"
      },
      "execution_count": null,
      "outputs": []
    },
    {
      "cell_type": "code",
      "source": [
        "print(\"Tiempo total: \" + str(int(days)) + \"d \" + str(int(hours)) + \"h \" + str(int(minutes)) + \"m \" + str(int(seconds)) + \"s\")"
      ],
      "metadata": {
        "colab": {
          "base_uri": "https://localhost:8080/"
        },
        "id": "i6dTb3i3IoYt",
        "outputId": "e4912978-d14f-473a-dafd-339691681294"
      },
      "execution_count": null,
      "outputs": [
        {
          "output_type": "stream",
          "name": "stdout",
          "text": [
            "Tiempo total: 99d 18h 44m 33s\n"
          ]
        }
      ]
    }
  ]
}